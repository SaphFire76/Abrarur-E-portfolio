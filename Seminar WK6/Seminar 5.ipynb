{
 "cells": [
  {
   "cell_type": "code",
   "execution_count": null,
   "metadata": {},
   "outputs": [
    {
     "name": "stdout",
     "output_type": "stream",
     "text": [
      "Address: 192.168.1.1\n",
      "Network: 192.168.1.0/24\n",
      "Netmask: 255.255.255.0\n",
      "Is private: True\n",
      "Is global: False\n",
      "Broadcast address: 192.168.1.255\n",
      "CIDR Notation: 192.168.1.0/24\n",
      "First usable host: 192.168.1.1\n",
      "Last usable host: 192.168.1.254\n",
      "Number of usable hosts: 254\n"
     ]
    }
   ],
   "source": [
    "# Exercise 1 #\n",
    "\n",
    "import ipaddress\n",
    "\n",
    "def analyse_ip(ip_str, cidr_prefix):\n",
    "    # Create an IP interface object\n",
    "    ip_with_cidr = f\"{ip_str}/{cidr_prefix}\"\n",
    "    ip = ipaddress.ip_interface(ip_with_cidr)\n",
    "    network = ip.network\n",
    "\n",
    "    MASK = '255.255.0.0'\n",
    "\n",
    "    # host = ipaddress.IPv4Address(ip)\n",
    "    net = ipaddress.IPv4Network(ip_str + '/' + MASK, False)\n",
    "\n",
    "    print(f\"Address: {ip.ip}\")\n",
    "    print(f\"Network: {ip.network}\")\n",
    "    print(f\"Netmask: {ip.netmask}\")\n",
    "    print(f\"Is private: {ip.ip.is_private}\")\n",
    "    print(f\"Is global: {ip.ip.is_global}\")\n",
    "    print(f\"Broadcast address: {ip.network.broadcast_address}\")\n",
    "    print(f\"CIDR Notation: {network.with_prefixlen}\")\n",
    "    #print(f\"First and last usable host addresses: {n[0]}, {n[-1]}\")\n",
    "\n",
    "    # First and last usable host addresses\n",
    "    all_hosts = list(network.hosts())\n",
    "    if all_hosts:\n",
    "        first_host = all_hosts[0]\n",
    "        last_host = all_hosts[-1]\n",
    "    else:\n",
    "        first_host = last_host = \"N/A\"  # No usable hosts in /31 or /32 networks\n",
    "    \n",
    "    print(f\"First usable host: {first_host}\")\n",
    "    print(f\"Last usable host: {last_host}\")\n",
    "    print(f\"Number of usable hosts: {len(all_hosts)}\")\n",
    "\n",
    "    # List all hosts in the network\n",
    "    if ip.network.num_addresses < 256: # Only for small networks\n",
    "        print(\"\\nHosts in network:\")\n",
    "        for host in ip.network.hosts():\n",
    "            print(host)\n",
    "\n",
    "# Example usage\n",
    "analyse_ip('192.168.1.1', 24)"
   ]
  },
  {
   "cell_type": "code",
   "execution_count": 7,
   "metadata": {},
   "outputs": [
    {
     "name": "stdout",
     "output_type": "stream",
     "text": [
      "Your Computer Name is:AbrarPC\n",
      "Your Computer IP Address is:10.100.56.130\n",
      "Address: 10.100.56.130\n",
      "Network: 10.100.56.0/24\n",
      "Netmask: 255.255.255.0\n",
      "Is private: True\n",
      "Is global: False\n",
      "Broadcast address: 10.100.56.255\n",
      "CIDR Notation: 10.100.56.0/24\n",
      "First usable host: 10.100.56.1\n",
      "Last usable host: 10.100.56.254\n",
      "Number of usable hosts: 254\n"
     ]
    }
   ],
   "source": [
    "# Exercise 2 #\n",
    "\n",
    "import socket\n",
    "hostname = socket.gethostname()\n",
    "IPAddr = socket.gethostbyname(hostname)\n",
    "\n",
    "print(\"Your Computer Name is:\" + hostname)\n",
    "print(\"Your Computer IP Address is:\" + IPAddr)\n",
    "\n",
    "analyse_ip(IPAddr, 24)"
   ]
  },
  {
   "cell_type": "code",
   "execution_count": 10,
   "metadata": {},
   "outputs": [
    {
     "name": "stdout",
     "output_type": "stream",
     "text": [
      "Address: 159.100.136.66\n",
      "Network: 159.100.136.0/24\n",
      "Netmask: 255.255.255.0\n",
      "Is private: False\n",
      "Is global: True\n",
      "Broadcast address: 159.100.136.255\n",
      "CIDR Notation: 159.100.136.0/24\n",
      "First usable host: 159.100.136.1\n",
      "Last usable host: 159.100.136.254\n",
      "Number of usable hosts: 254\n"
     ]
    }
   ],
   "source": [
    "# Exercise 3 #\n",
    "\n",
    "import socket\n",
    "\n",
    "uni_ip = socket.gethostbyname('www.gold.ac.uk')\n",
    "\n",
    "analyse_ip(uni_ip, 24)\n"
   ]
  }
 ],
 "metadata": {
  "kernelspec": {
   "display_name": "base",
   "language": "python",
   "name": "python3"
  },
  "language_info": {
   "codemirror_mode": {
    "name": "ipython",
    "version": 3
   },
   "file_extension": ".py",
   "mimetype": "text/x-python",
   "name": "python",
   "nbconvert_exporter": "python",
   "pygments_lexer": "ipython3",
   "version": "3.12.3"
  }
 },
 "nbformat": 4,
 "nbformat_minor": 2
}
