{
 "cells": [
  {
   "cell_type": "code",
   "execution_count": null,
   "metadata": {},
   "outputs": [
    {
     "name": "stdout",
     "output_type": "stream",
     "text": [
      "=== Simple DHCP Simulation ===\n",
      "\n",
      "[CLIENT] Step 1: Sending DHCP DISCOVER\n",
      "\n",
      "[CLIENT] Step 3: Sending DHCP REQUEST\n",
      "\n",
      "=== Result ===\n",
      "Client AA:BB:CC:DD:EE:FF got IP: 192.168.1.100\n"
     ]
    }
   ],
   "source": [
    "# Exercise 5 Client #\n",
    "\n",
    "import socket\n",
    "import json\n",
    "\n",
    "client_socket = socket.socket(socket.AF_INET, socket.SOCK_STREAM)\n",
    "client_socket.connect(('localhost', 65432))\n",
    "\n",
    "client = {\n",
    "    \"mac\": \"AA:BB:CC:DD:EE:FF\",\n",
    "    \"ip\": None\n",
    "}\n",
    "\n",
    "def send_discover():\n",
    "    print(\"\\n[CLIENT] Step 1: Sending DHCP DISCOVER\")\n",
    "    return {\n",
    "        \"type\": \"DISCOVER\",\n",
    "        \"mac\": client[\"mac\"]\n",
    "    }\n",
    "\n",
    "def send_request(offer):\n",
    "    print(\"\\n[CLIENT] Step 3: Sending DHCP REQUEST\")\n",
    "    return {\n",
    "        \"type\": \"REQUEST\",\n",
    "        \"mac\": offer[\"mac\"],\n",
    "        \"ip\": offer[\"ip\"]\n",
    "    }\n",
    "\n",
    "def main():\n",
    "    print(\"=== Simple DHCP Simulation ===\")\n",
    "\n",
    "    # Client starts process\n",
    "    discover = send_discover()\n",
    "    client_socket.sendall(json.dumps(discover).encode('utf-8'))\n",
    "\n",
    "    # Client continues\n",
    "    offer = client_socket.recv(1024)\n",
    "    offer= json.loads(offer.decode('utf-8'))\n",
    "    request = send_request(offer)\n",
    "    client_socket.sendall(json.dumps(request).encode('utf-8'))\n",
    "\n",
    "    # Update client IP\n",
    "    ack= client_socket.recv(1024)\n",
    "    ack= json.loads(ack.decode('utf-8'))\n",
    "    client[\"ip\"] = ack[\"ip\"]\n",
    "\n",
    "    print(\"\\n=== Result ===\")\n",
    "    print(f\"Client {client['mac']} got IP: {client['ip']}\")\n",
    "\n",
    "if __name__ == \"__main__\":\n",
    "    main()\n"
   ]
  }
 ],
 "metadata": {
  "kernelspec": {
   "display_name": "base",
   "language": "python",
   "name": "python3"
  },
  "language_info": {
   "codemirror_mode": {
    "name": "ipython",
    "version": 3
   },
   "file_extension": ".py",
   "mimetype": "text/x-python",
   "name": "python",
   "nbconvert_exporter": "python",
   "pygments_lexer": "ipython3",
   "version": "3.12.3"
  }
 },
 "nbformat": 4,
 "nbformat_minor": 2
}
