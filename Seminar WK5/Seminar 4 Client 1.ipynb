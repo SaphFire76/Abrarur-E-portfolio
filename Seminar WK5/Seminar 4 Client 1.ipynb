{
 "cells": [
  {
   "cell_type": "code",
   "execution_count": 9,
   "metadata": {},
   "outputs": [
    {
     "name": "stdout",
     "output_type": "stream",
     "text": [
      "Server response: ACK: hello\n",
      "0:00:00\n"
     ]
    }
   ],
   "source": [
    "# Exercise 1 #\n",
    "\n",
    "import socket\n",
    "import datetime\n",
    "\n",
    "client_socket = socket.socket(socket.AF_INET, socket.SOCK_STREAM)\n",
    "client_socket.connect(('localhost', 65432))\n",
    "\n",
    "message = input(\"Enter message: \")\n",
    "client_socket.sendall(message.encode())\n",
    "senTime= datetime.datetime.now()\n",
    "\n",
    "response = client_socket.recv(1024)\n",
    "recTime= datetime.datetime.now()\n",
    "print(f\"Server response: {response.decode()}\")\n",
    "print(recTime-senTime)\n",
    "\n",
    "client_socket.close()"
   ]
  },
  {
   "cell_type": "code",
   "execution_count": 10,
   "metadata": {},
   "outputs": [
    {
     "name": "stdout",
     "output_type": "stream",
     "text": [
      "Server response: ACK: hello\n",
      "0:00:00.001024\n"
     ]
    }
   ],
   "source": [
    "# Exercise 2 #\n",
    "\n",
    "import socket\n",
    "import datetime\n",
    "\n",
    "client_socket = socket.socket(socket.AF_INET, socket.SOCK_DGRAM)\n",
    "server_address = ('localhost', 65432)\n",
    "\n",
    "message = input(\"Enter message: \")\n",
    "\n",
    "senTime = datetime.datetime.now()\n",
    "client_socket.sendto(message.encode(), server_address)\n",
    "\n",
    "response, server_address = client_socket.recvfrom(1024)\n",
    "recTime = datetime.datetime.now()\n",
    "\n",
    "print(f\"Server response: {response.decode()}\")\n",
    "print(recTime-senTime)\n",
    "\n",
    "client_socket.close()\n"
   ]
  },
  {
   "cell_type": "code",
   "execution_count": 46,
   "metadata": {},
   "outputs": [
    {
     "name": "stdout",
     "output_type": "stream",
     "text": [
      "Server response: ACK: file received\n",
      "0:00:00.003929\n"
     ]
    }
   ],
   "source": [
    "# Exercise 3 #\n",
    "\n",
    "import socket\n",
    "import datetime\n",
    "\n",
    "client_socket = socket.socket(socket.AF_INET, socket.SOCK_STREAM)\n",
    "client_socket.connect(('localhost', 65432))\n",
    "\n",
    "with open('file_to_send.txt', 'rb') as f:\n",
    "    file_data = f.read()\n",
    "    senTime = datetime.datetime.now()\n",
    "\n",
    "# Send the file data to the server\n",
    "client_socket.sendall(file_data)\n",
    "\n",
    "response = client_socket.recv(1024)\n",
    "recTime= datetime.datetime.now()\n",
    "print(f\"Server response: {response.decode()}\")\n",
    "print(recTime-senTime)\n",
    "\n",
    "client_socket.close()"
   ]
  },
  {
   "cell_type": "markdown",
   "metadata": {},
   "source": [
    "When the file_to_send contains 'abrarur' it takes 2000 microseconds on average to receive response.\n",
    "\n",
    "When the file_to_send contains two paragraphs of lorem ipsum it takes 2500 microseconds on average to recive response.\n",
    "\n",
    "The averages were measures by sending the file 3 times for each contents."
   ]
  },
  {
   "cell_type": "code",
   "execution_count": 11,
   "metadata": {},
   "outputs": [
    {
     "name": "stdout",
     "output_type": "stream",
     "text": [
      "Server response: ACK: file received\n",
      "0:00:00.004098\n"
     ]
    }
   ],
   "source": [
    "# Exercise 4 #\n",
    "\n",
    "import socket\n",
    "import datetime\n",
    "\n",
    "client_socket = socket.socket(socket.AF_INET, socket.SOCK_DGRAM)\n",
    "server_address = ('localhost', 65432)\n",
    "\n",
    "with open('file_to_send.txt', 'rb') as f:\n",
    "    file_data = f.read()\n",
    "    senTime = datetime.datetime.now()\n",
    "\n",
    "client_socket.sendto(file_data, server_address)\n",
    "\n",
    "response, server_address = client_socket.recvfrom(1024)\n",
    "recTime = datetime.datetime.now()\n",
    "\n",
    "print(f\"Server response: {response.decode()}\")\n",
    "print(recTime-senTime)\n",
    "\n",
    "client_socket.close()"
   ]
  },
  {
   "cell_type": "markdown",
   "metadata": {},
   "source": [
    "The time needed to receive a response is 4200 microseconds on average, which is surprisingly slower than the time needed for the TCP client."
   ]
  },
  {
   "cell_type": "code",
   "execution_count": null,
   "metadata": {},
   "outputs": [
    {
     "name": "stdout",
     "output_type": "stream",
     "text": [
      "Server response: ACK: hello\n",
      "Server response: ACK: hi\n",
      "Server response: ACK: wazzup\n",
      "Exiting client.\n"
     ]
    }
   ],
   "source": [
    "# Exercise 6 and 7 #\n",
    "\n",
    "def encrypt(msg, key):\n",
    "    result= ''\n",
    "\n",
    "    for char in msg:\n",
    "        if (char.isupper()):\n",
    "            result += chr((ord(char) + key-65) % 26 + 65)\n",
    "        elif char.islower():\n",
    "            result += chr((ord(char) + key - 97) % 26 + 97)\n",
    "        else:\n",
    "            result += char\n",
    "\n",
    "    return result\n",
    "\n",
    "import socket\n",
    "\n",
    "client_socket = socket.socket(socket.AF_INET, socket.SOCK_STREAM)\n",
    "client_socket.connect(('localhost', 65432))\n",
    "\n",
    "while True:\n",
    "    message = input(\"Enter message: \")\n",
    "\n",
    "    if message.lower() == 'exit':\n",
    "        print(\"Exiting client.\")\n",
    "        break\n",
    "    \n",
    "    message = encrypt(message, 5)\n",
    "    client_socket.sendall(message.encode())\n",
    "\n",
    "    response = client_socket.recv(1024)\n",
    "    print(f\"Server response: {response.decode()}\")\n",
    "\n",
    "client_socket.close()"
   ]
  },
  {
   "cell_type": "code",
   "execution_count": 7,
   "metadata": {},
   "outputs": [
    {
     "name": "stdout",
     "output_type": "stream",
     "text": [
      "Server response: ACK: Current temperature at uni: 9.2°C.\n"
     ]
    }
   ],
   "source": [
    "# Exercise 8 #\n",
    "\n",
    "import socket\n",
    "import requests\n",
    "\n",
    "client_socket = socket.socket(socket.AF_INET, socket.SOCK_STREAM)\n",
    "client_socket.connect(('localhost', 65432))\n",
    "\n",
    "api_url_uni = \"https://api.open-meteo.com/v1/forecast?latitude=51.47&longitude=-0.0363&current_weather=true\"\n",
    "response_uni = requests.get(api_url_uni)\n",
    "\n",
    "if response_uni.status_code == 200:\n",
    "    weather_data_uni = response_uni.json()\n",
    "    temperature_uni = weather_data_uni[\"current_weather\"][\"temperature\"]\n",
    "\n",
    "    message = f\"Current temperature at uni: {temperature_uni}°C.\"\n",
    "    message = encrypt(message, 5)\n",
    "else:\n",
    "    message = \"Failed to fetch weather data\"\n",
    "\n",
    "\n",
    "client_socket.sendall(message.encode())\n",
    "\n",
    "response = client_socket.recv(1024)\n",
    "print(f\"Server response: {response.decode()}\")\n",
    "\n",
    "client_socket.close()"
   ]
  }
 ],
 "metadata": {
  "kernelspec": {
   "display_name": "base",
   "language": "python",
   "name": "python3"
  },
  "language_info": {
   "codemirror_mode": {
    "name": "ipython",
    "version": 3
   },
   "file_extension": ".py",
   "mimetype": "text/x-python",
   "name": "python",
   "nbconvert_exporter": "python",
   "pygments_lexer": "ipython3",
   "version": "3.12.3"
  }
 },
 "nbformat": 4,
 "nbformat_minor": 2
}
