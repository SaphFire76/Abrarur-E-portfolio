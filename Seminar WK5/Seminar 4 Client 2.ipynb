{
 "cells": [
  {
   "cell_type": "code",
   "execution_count": 1,
   "metadata": {},
   "outputs": [
    {
     "name": "stdout",
     "output_type": "stream",
     "text": [
      "Server response: ACK: hi\n",
      "Server response: ACK: yo\n",
      "Server response: ACK: hello\n",
      "Server response: ACK: hi\n",
      "Exiting client.\n"
     ]
    }
   ],
   "source": [
    "# Exercise 1 #\n",
    "\n",
    "import socket\n",
    "\n",
    "client_socket = socket.socket(socket.AF_INET, socket.SOCK_STREAM)\n",
    "client_socket.connect(('localhost', 65432))\n",
    "\n",
    "while True:\n",
    "    message = input(\"Enter message: \")\n",
    "\n",
    "    if message.lower() == 'exit':\n",
    "        print(\"Exiting client.\")\n",
    "        break\n",
    "    \n",
    "    client_socket.sendall(message.encode())\n",
    "\n",
    "    response = client_socket.recv(1024)\n",
    "    print(f\"Server response: {response.decode()}\")\n",
    "\n",
    "client_socket.close()"
   ]
  }
 ],
 "metadata": {
  "kernelspec": {
   "display_name": "base",
   "language": "python",
   "name": "python3"
  },
  "language_info": {
   "codemirror_mode": {
    "name": "ipython",
    "version": 3
   },
   "file_extension": ".py",
   "mimetype": "text/x-python",
   "name": "python",
   "nbconvert_exporter": "python",
   "pygments_lexer": "ipython3",
   "version": "3.12.3"
  }
 },
 "nbformat": 4,
 "nbformat_minor": 2
}
