{
 "cells": [
  {
   "cell_type": "code",
   "execution_count": 4,
   "metadata": {},
   "outputs": [
    {
     "name": "stdout",
     "output_type": "stream",
     "text": [
      "Enter username:\n",
      "Enter password:\n",
      "Server response: incorrect\n",
      "Enter username:\n",
      "Enter username:\n",
      "Server response: Enter password:\n",
      "incorrect\n",
      "Enter username:\n",
      "Server response: Enter password:\n",
      "Enter username:\n",
      "Enter password:\n",
      "Server response: accepted\n"
     ]
    }
   ],
   "source": [
    "# Exercise 1, 2, 3, 4 (Client 2) #\n",
    "\n",
    "# Note: Please do not open both clients on the same window.\n",
    "\n",
    "def decrypt(msg, key):\n",
    "    result= ''\n",
    "\n",
    "    for char in msg:\n",
    "      \n",
    "      if (char.isupper()):\n",
    "         result += chr((ord(char) + key-65) % 26 + 65)\n",
    "      else:\n",
    "         result += chr((ord(char) + key - 97) % 26 + 97)\n",
    "      return result\n",
    "\n",
    "import socket\n",
    "\n",
    "client_socket = socket.socket(socket.AF_INET, socket.SOCK_DGRAM)\n",
    "server_address = ('localhost', 65433)\n",
    "\n",
    "serverLogin= 'incorrect'\n",
    "\n",
    "while serverLogin != 'accepted':\n",
    "    loginRequest = input(\"Type 'login' to start\")\n",
    "    client_socket.sendto(loginRequest.encode(), server_address)\n",
    "\n",
    "    data, server_address = client_socket.recvfrom(2048)\n",
    "    print(data.decode())\n",
    "\n",
    "    username= input('Username:')\n",
    "    client_socket.sendto(username.encode(), server_address)\n",
    "\n",
    "    data, server_address = client_socket.recvfrom(2048)\n",
    "    print(data.decode())\n",
    "\n",
    "    password= input('Password:')\n",
    "    client_socket.sendto(password.encode(), server_address)\n",
    "\n",
    "    data, server_address = client_socket.recvfrom(2048)\n",
    "    serverLogin= data.decode()\n",
    "    print(f\"Server response: {serverLogin}\")\n",
    "\n",
    "while serverLogin == 'accepted':\n",
    "    message = input('Send message:')\n",
    "\n",
    "    # Send message to the server\n",
    "    client_socket.sendto(message.encode(), server_address)\n",
    "\n",
    "    if message == 'close':\n",
    "        break\n",
    "\n",
    "client_socket.close()"
   ]
  }
 ],
 "metadata": {
  "kernelspec": {
   "display_name": "base",
   "language": "python",
   "name": "python3"
  },
  "language_info": {
   "codemirror_mode": {
    "name": "ipython",
    "version": 3
   },
   "file_extension": ".py",
   "mimetype": "text/x-python",
   "name": "python",
   "nbconvert_exporter": "python",
   "pygments_lexer": "ipython3",
   "version": "3.12.3"
  }
 },
 "nbformat": 4,
 "nbformat_minor": 2
}
