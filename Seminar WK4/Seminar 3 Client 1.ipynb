{
 "cells": [
  {
   "cell_type": "code",
   "execution_count": 6,
   "metadata": {},
   "outputs": [],
   "source": [
    "import socket\n",
    "\n",
    "client_socket = socket.socket(socket.AF_INET, socket.SOCK_DGRAM)\n",
    "\n",
    "server_address = ('localhost', 65433)\n",
    "message = b\"Hello, UDP Server!\"\n",
    "\n",
    "# Send message to the server\n",
    "client_socket.sendto(message, server_address)\n",
    "\n",
    "client_socket.close()"
   ]
  },
  {
   "cell_type": "code",
   "execution_count": null,
   "metadata": {},
   "outputs": [
    {
     "name": "stdout",
     "output_type": "stream",
     "text": [
      "Enter password:\n",
      "incorrect\n",
      "Server response: Enter username:\n",
      "Enter password:\n",
      "incorrect\n",
      "Server response: Enter username:\n",
      "Enter username:\n",
      "Enter password:\n",
      "Server response: accepted\n"
     ]
    }
   ],
   "source": [
    "# Exercise 1, 2, 3, 4 (Client 1) #\n",
    "\n",
    "# Note: Please do not open both clients on the same window.\n",
    "\n",
    "def encrypt(msg, key):\n",
    "    result= ''\n",
    "\n",
    "    for char in msg:\n",
    "        if (char.isupper()):\n",
    "            result += chr((ord(char) + key-65) % 26 + 65)\n",
    "        elif char.islower():\n",
    "            result += chr((ord(char) + key - 97) % 26 + 97)\n",
    "        else:\n",
    "            result += char\n",
    "\n",
    "    return result\n",
    "\n",
    "import socket\n",
    "\n",
    "client_socket = socket.socket(socket.AF_INET, socket.SOCK_DGRAM)\n",
    "server_address = ('localhost', 65433)\n",
    "\n",
    "serverLogin= 'incorrect'\n",
    "\n",
    "while serverLogin != 'accepted':\n",
    "    loginRequest = input(\"Type 'login' to start\")\n",
    "    client_socket.sendto(loginRequest.encode(), server_address)\n",
    "\n",
    "    data, server_address = client_socket.recvfrom(2048)\n",
    "    print(data.decode())\n",
    "\n",
    "    username= input('Username:')\n",
    "    client_socket.sendto(username.encode(), server_address)\n",
    "\n",
    "    data, server_address = client_socket.recvfrom(2048)\n",
    "    print(data.decode())\n",
    "\n",
    "    password= input('Password:')\n",
    "    client_socket.sendto(password.encode(), server_address)\n",
    "\n",
    "    data, server_address = client_socket.recvfrom(2048)\n",
    "    serverLogin= data.decode()\n",
    "    print(f\"Server response: {serverLogin}\")\n",
    "\n",
    "while serverLogin == 'accepted':\n",
    "    message = input('Send message:')\n",
    "\n",
    "    # Send message to the server\n",
    "    client_socket.sendto(message.encode(), server_address)\n",
    "\n",
    "    if message == 'close':\n",
    "        break\n",
    "\n",
    "client_socket.close()"
   ]
  },
  {
   "cell_type": "code",
   "execution_count": 13,
   "metadata": {},
   "outputs": [
    {
     "name": "stdout",
     "output_type": "stream",
     "text": [
      "Weather data sent!\n"
     ]
    }
   ],
   "source": [
    "# Exercise 5 #\n",
    "\n",
    "import socket\n",
    "import requests\n",
    "\n",
    "# Fetch weather data\n",
    "api_url_uni = \"https://api.open-meteo.com/v1/forecast?latitude=51.47&longitude=-0.0363&current_weather=true\"\n",
    "response_uni = requests.get(api_url_uni)\n",
    "\n",
    "api_url_britLib= \"https://api.open-meteo.com/v1/forecast?latitude=51.529972&longitude=-0.127676&current_weather=true\"\n",
    "response_britLib= requests.get(api_url_britLib)\n",
    "\n",
    "if response_uni.status_code == 200 and response_britLib.status_code == 200:\n",
    "    weather_data_uni = response_uni.json()\n",
    "    temperature_uni = weather_data_uni[\"current_weather\"][\"temperature\"]\n",
    "\n",
    "    weather_data_britLib= response_britLib.json()\n",
    "    temperature_britLib= weather_data_britLib[\"current_weather\"][\"temperature\"]\n",
    "    message = f\"Current temperature at uni: {temperature_uni}°C. \\nCurrent temperature at the British Library: {temperature_britLib}°C.\\nThat's a difference of: {abs(temperature_britLib-temperature_uni)}°C\"\n",
    "else:\n",
    "    message = \"Failed to fetch weather data\"\n",
    "\n",
    "# Send the weather data using UDP\n",
    "client_socket = socket.socket(socket.AF_INET, socket.SOCK_DGRAM)\n",
    "server_address = ('localhost', 65433)\n",
    "\n",
    "# Log in\n",
    "client_socket.sendto('login'.encode(), server_address)\n",
    "client_socket.sendto('Client1'.encode(), server_address)\n",
    "client_socket.sendto('password1'.encode(), server_address)\n",
    "\n",
    "client_socket.sendto(message.encode(), server_address)\n",
    "print(\"Weather data sent!\")\n",
    "\n",
    "client_socket.sendto('close'.encode(), server_address)\n",
    "client_socket.close()"
   ]
  }
 ],
 "metadata": {
  "kernelspec": {
   "display_name": "base",
   "language": "python",
   "name": "python3"
  },
  "language_info": {
   "codemirror_mode": {
    "name": "ipython",
    "version": 3
   },
   "file_extension": ".py",
   "mimetype": "text/x-python",
   "name": "python",
   "nbconvert_exporter": "python",
   "pygments_lexer": "ipython3",
   "version": "3.12.3"
  }
 },
 "nbformat": 4,
 "nbformat_minor": 2
}
