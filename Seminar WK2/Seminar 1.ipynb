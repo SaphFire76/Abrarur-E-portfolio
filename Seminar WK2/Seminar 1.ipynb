{
 "cells": [
  {
   "cell_type": "code",
   "execution_count": null,
   "metadata": {},
   "outputs": [],
   "source": [
    "print('Hello')"
   ]
  },
  {
   "cell_type": "markdown",
   "metadata": {},
   "source": [
    "Exercise 2:"
   ]
  },
  {
   "cell_type": "code",
   "execution_count": null,
   "metadata": {},
   "outputs": [],
   "source": [
    "fruits= ['apple', 'guava', 'strawberry', 'peach', 'mango']\n",
    "print(fruits)"
   ]
  },
  {
   "cell_type": "code",
   "execution_count": null,
   "metadata": {},
   "outputs": [],
   "source": [
    "fruituple= ('tiger', 'lion', 'wolf')\n",
    "print(fruituple)"
   ]
  },
  {
   "cell_type": "code",
   "execution_count": null,
   "metadata": {},
   "outputs": [],
   "source": [
    "lang= {\n",
    "    'python': 1991,\n",
    "    'java': 1996,\n",
    "    'c#': 2000\n",
    "}\n",
    "\n",
    "print(lang)"
   ]
  },
  {
   "cell_type": "code",
   "execution_count": null,
   "metadata": {},
   "outputs": [],
   "source": [
    "colours= {'red','green','blue'}\n",
    "print(colours)"
   ]
  },
  {
   "cell_type": "code",
   "execution_count": null,
   "metadata": {},
   "outputs": [],
   "source": [
    "#Write a script that takes a user input of a number and checks if it is positive, negative or zero. Print the results.\n",
    "number= int(input('Number pls'))\n",
    "\n",
    "if number> 0:\n",
    "    print('positive')\n",
    "elif number< 0:\n",
    "    print('negative')\n",
    "else:\n",
    "    print('0')"
   ]
  },
  {
   "cell_type": "code",
   "execution_count": null,
   "metadata": {},
   "outputs": [],
   "source": [
    "#Write a script that takes a user input of a string and checks if it starts with a vowel or consonant. Print the results.\n",
    "sen= input('Make a sentence')\n",
    "sen= sen.lower()\n",
    "\n",
    "if sen[0]== 'a' or sen[0]== 'e' or sen[0]== 'i' or sen[0]== 'o' or sen[0]== 'u':\n",
    "    print('Vowel')\n",
    "else:\n",
    "    print('Consonant')"
   ]
  },
  {
   "cell_type": "code",
   "execution_count": null,
   "metadata": {},
   "outputs": [],
   "source": [
    "#Write a script that takes a user input of two numbers and checks if they are equal or not. Print the results.\n",
    "num1= int(input('A number'))\n",
    "num2= int(input('Another number'))\n",
    "\n",
    "if num1== num2:\n",
    "    print('equal')\n",
    "else:\n",
    "    print('nah')"
   ]
  },
  {
   "cell_type": "code",
   "execution_count": null,
   "metadata": {},
   "outputs": [],
   "source": [
    "#Write a script that prints the numbers from 1 to 10 using a for loop\n",
    "for i in range(1, 11):\n",
    "    print(i)\n",
    "\n",
    "print('\\n')\n",
    "\n",
    "#Write a script that prints the even numbers from 2 to 10 using a for loop.\n",
    "for i in range(1, 11):\n",
    "    if i % 2 == 0:\n",
    "        print(i)\n",
    "\n",
    "print('\\n')\n",
    "\n",
    "#Write a script that prints the first 5 numbers of the Fibonacci sequence using a while loop.\n",
    "a= 0\n",
    "b= 1\n",
    "for i in range(1, 6):\n",
    "    if(i % 2 == 1):\n",
    "        print(a)\n",
    "        a= a+b\n",
    "    else:\n",
    "        print(b)\n",
    "        b= a+b\n",
    "\n"
   ]
  },
  {
   "cell_type": "code",
   "execution_count": null,
   "metadata": {},
   "outputs": [],
   "source": [
    "#Write a function that takes two numbers as parameters and returns their sum.\n",
    "def sum(a, b):\n",
    "    return a+b\n",
    "\n",
    "print(sum(2, 3))"
   ]
  },
  {
   "cell_type": "code",
   "execution_count": null,
   "metadata": {},
   "outputs": [],
   "source": [
    "#Write a function that takes a list of numbers as a parameter and returns the largest number in the list.\n",
    "def largestNum(x):\n",
    "    largest= x[0]\n",
    "\n",
    "    for i in x:\n",
    "        if i> largest:\n",
    "            largest= i\n",
    "\n",
    "    return largest\n",
    "\n",
    "nums= [0, 1, 5, 10, 3, 13, 312, 23, 5]\n",
    "\n",
    "print(largestNum(nums))\n"
   ]
  },
  {
   "cell_type": "code",
   "execution_count": null,
   "metadata": {},
   "outputs": [],
   "source": [
    "#Write a function that takes a string as a parameter and returns the number of vowels in the string.\n",
    "def vowelCount(x):\n",
    "    x= x.lower()\n",
    "    count= 0\n",
    "\n",
    "    for i in x:\n",
    "        if i== 'a' or i== 'e' or i== 'i' or i== 'o' or i== 'u':\n",
    "            count= count + 1\n",
    "\n",
    "    return count\n",
    "\n",
    "sen= 'Hello World'\n",
    "\n",
    "print(vowelCount(sen))"
   ]
  },
  {
   "cell_type": "code",
   "execution_count": null,
   "metadata": {},
   "outputs": [],
   "source": [
    "#Password Strength Checker\n",
    "def passStrenCheck(x):\n",
    "    _8char= False\n",
    "    upCase= False\n",
    "    lowCase= False\n",
    "    sChar= False\n",
    "\n",
    "    if len(x) >= 8:\n",
    "        _8char= True\n",
    "\n",
    "    for char in x:\n",
    "        if char.isupper() and upCase == False:\n",
    "            upCase= True\n",
    "        elif char.islower() and lowCase == False:\n",
    "            lowCase= True\n",
    "        elif char in '@#$%' and sChar == False:\n",
    "            sChar= True\n",
    "    \n",
    "    return _8char and upCase and lowCase and sChar\n",
    "\n",
    "print(passStrenCheck('Password@76'))\n",
    "print(passStrenCheck('Password76'))"
   ]
  },
  {
   "cell_type": "code",
   "execution_count": null,
   "metadata": {},
   "outputs": [],
   "source": [
    "#Caesar Cipher\n",
    "def caesar(msg, key, mode):\n",
    "    result= ''\n",
    "\n",
    "    if mode == 'encrypt':\n",
    "        for char in msg:\n",
    "            x= (ord(char)- 65 + key)% 26+ 65\n",
    "            result+= chr(x)\n",
    "    elif mode == 'decrypt':\n",
    "        for char in msg:\n",
    "            x= (ord(char)- 65 - key)% 26+ 65\n",
    "            result+= chr(x)\n",
    "\n",
    "    return result\n",
    "\n",
    "encrypted= caesar('ZEBRA', 1, 'encrypt')\n",
    "print(encrypted)\n",
    "print(caesar(encrypted, 1, 'decrypt'))\n"
   ]
  },
  {
   "cell_type": "code",
   "execution_count": null,
   "metadata": {},
   "outputs": [
    {
     "name": "stdout",
     "output_type": "stream",
     "text": [
      "_ _ _ _ _ _ _ _ _ _\n",
      "Well done!\n",
      "j _ _ _ _ _ _ _ _ _\n",
      "Well done!\n",
      "j a _ a _ _ _ _ _ _\n",
      "Well done!\n",
      "j a v a _ _ _ _ _ _\n",
      "Well done!\n",
      "j a v a s _ _ _ _ _\n",
      "Well done!\n",
      "j a v a s _ _ _ _ _\n",
      "Well done!\n",
      "j a v a s c _ _ _ _\n",
      "Well done!\n",
      "j a v a s c _ _ p _\n",
      "Well done!\n",
      "j a v a s c _ _ p _\n",
      "Well done!\n",
      "j a v a s c _ _ p t\n",
      "Well done!\n",
      "j a v a s c _ _ p t\n",
      "Well done!\n",
      "j a v a s c r _ p t\n",
      "Well done!\n",
      "Congrats\n"
     ]
    }
   ],
   "source": [
    "#Hangman Game\n",
    "import random\n",
    "\n",
    "words= [\"python\", \"java\", \"javascript\"]\n",
    "maxGuess= 6\n",
    "\n",
    "secretWord= random.choice(words)\n",
    "length= len(secretWord)\n",
    "answer= ['_']* length\n",
    "\n",
    "while maxGuess>0:\n",
    "    print(' '.join(answer))\n",
    "    guess= input('Guess!').lower()\n",
    "    if guess in secretWord:\n",
    "        print('Well done!')\n",
    "        for i, letter in enumerate(secretWord):\n",
    "            if letter == guess:\n",
    "                answer[i] = guess\n",
    "    else:\n",
    "        print('Bad done!', maxGuess, 'left.')\n",
    "        maxGuess-= 1\n",
    "\n",
    "    if '_' not in answer:\n",
    "        print('Congrats')\n",
    "        break\n",
    "else:\n",
    "    print('Game Over!')\n"
   ]
  }
 ],
 "metadata": {
  "kernelspec": {
   "display_name": "base",
   "language": "python",
   "name": "python3"
  },
  "language_info": {
   "codemirror_mode": {
    "name": "ipython",
    "version": 3
   },
   "file_extension": ".py",
   "mimetype": "text/x-python",
   "name": "python",
   "nbconvert_exporter": "python",
   "pygments_lexer": "ipython3",
   "version": "3.12.3"
  }
 },
 "nbformat": 4,
 "nbformat_minor": 2
}
